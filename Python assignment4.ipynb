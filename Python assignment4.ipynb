{
 "cells": [
  {
   "cell_type": "code",
   "execution_count": 1,
   "metadata": {},
   "outputs": [
    {
     "name": "stdout",
     "output_type": "stream",
     "text": [
      "enter area of first side:\t5\n",
      "enter area of second side:\t5\n",
      "enter area of third side:\t5\n",
      "area of triangle:\t10.825317547305483\n"
     ]
    }
   ],
   "source": [
    "# 1.1 Write a Python Program(with class concepts) to find the area of the triangle using the below\n",
    "# formula.\n",
    "# area = (s*(s-a)*(s-b)*(s-c)) ** 0.5\n",
    "# Function to take the length of the sides of triangle from user should be defined in the parent\n",
    "# class and function to calculate the area should be defined in subclass.\n",
    "\n",
    "class getusrinpt(object):\n",
    "        a=input(\"enter area of first side:\\t\")\n",
    "        b=input(\"enter area of second side:\\t\")\n",
    "        c=input('enter area of third side:\\t')\n",
    " \n",
    "\n",
    "    \n",
    "class calarea(getusrinpt):\n",
    "     def area():\n",
    "            a= float(getusrinpt.a)\n",
    "            b=float(getusrinpt.b)\n",
    "            c=float(getusrinpt.c)\n",
    "            s0=int(a)/2\n",
    "            s1=int(b)/2\n",
    "            s2=int(c)/2\n",
    "            s=float(s0)+float(s1)+float(s2)\n",
    "            triarea=(s*(s-a)*(s-b)*(s-c))**0.5\n",
    "            return triarea\n",
    "        \n",
    "print(\"area of triangle:\\t\"+str(calarea.area()))"
   ]
  },
  {
   "cell_type": "code",
   "execution_count": 2,
   "metadata": {},
   "outputs": [
    {
     "data": {
      "text/plain": [
       "['longestdays']"
      ]
     },
     "execution_count": 2,
     "metadata": {},
     "output_type": "execute_result"
    }
   ],
   "source": [
    "# 1.2 Write a function filter_long_words() that takes a list of words and an integer n and returns\n",
    "# the list of words that are longer than n.\n",
    "\n",
    "def filter_long_words(wrds,n):\n",
    "    result=[]\n",
    "    for i in range(len(wrds)):\n",
    "        if len(wrds[i]) > n:\n",
    "            result.append(wrds[i])\n",
    "    return result\n",
    "\n",
    "filter_long_words(['day','month','year','longestdays'],5 )"
   ]
  },
  {
   "cell_type": "code",
   "execution_count": 3,
   "metadata": {},
   "outputs": [
    {
     "data": {
      "text/plain": [
       "[2, 3, 4]"
      ]
     },
     "execution_count": 3,
     "metadata": {},
     "output_type": "execute_result"
    }
   ],
   "source": [
    "# 2.1 Write a Python program using function concept that maps list of words into a list of integers\n",
    "# representing the lengths of the corresponding words.\n",
    "# Hint: If a list [ ab,cde,erty] is passed on to the python function output should come as [2,3,4]\n",
    "# Here 2,3 and 4 are the lengths of the words in the list.\n",
    "\n",
    "\n",
    "def wrdlenth(wrds):\n",
    "    return [len(x) for x in wrds]\n",
    "\n",
    "\n",
    "\n",
    "wrdlenth(['ab','cde','erty'])"
   ]
  },
  {
   "cell_type": "code",
   "execution_count": 4,
   "metadata": {},
   "outputs": [
    {
     "name": "stdout",
     "output_type": "stream",
     "text": [
      "False\n",
      "True\n",
      "True\n",
      "False\n"
     ]
    }
   ],
   "source": [
    "# 2.2 Write a Python function which takes a character (i.e. a string of length 1) and returns True if\n",
    "# it is a vowel, False otherwise.\n",
    "\n",
    "def isvowel(char):\n",
    "    vowels=('a','e','i','o','u')\n",
    "    vowelsCap=('A','E','I','O','U')\n",
    "    if char not in vowels and char not in vowelsCap:\n",
    "        return False\n",
    "    return True\n",
    "\n",
    "print(isvowel('1'))\n",
    "print(isvowel('a'))\n",
    "print(isvowel('A'))\n",
    "print(isvowel('b'))"
   ]
  },
  {
   "cell_type": "code",
   "execution_count": null,
   "metadata": {},
   "outputs": [],
   "source": []
  }
 ],
 "metadata": {
  "kernelspec": {
   "display_name": "Python 3",
   "language": "python",
   "name": "python3"
  },
  "language_info": {
   "codemirror_mode": {
    "name": "ipython",
    "version": 3
   },
   "file_extension": ".py",
   "mimetype": "text/x-python",
   "name": "python",
   "nbconvert_exporter": "python",
   "pygments_lexer": "ipython3",
   "version": "3.8.3"
  }
 },
 "nbformat": 4,
 "nbformat_minor": 4
}
