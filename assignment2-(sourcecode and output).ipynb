{
 "cells": [
  {
   "cell_type": "code",
   "execution_count": 69,
   "metadata": {},
   "outputs": [
    {
     "name": "stdout",
     "output_type": "stream",
     "text": [
      "sum of given list\t:15\n"
     ]
    }
   ],
   "source": [
    "##task1>>1.1)prgm to impleament own myreduce()\n",
    "\n",
    "def msum(a,b):\n",
    "    return a+b\n",
    "\n",
    "def myreduce(func,seq):\n",
    "    result=seq[0]\n",
    "    for i in seq[1:]:\n",
    "        result=func(result,i)\n",
    "    return result\n",
    "\n",
    "\n",
    "print(\"sum of given list\\t:\"+str(myreduce(msum,[1,2,3,4,5])))\n",
    "##print(+myreduce(msum,[1,2,3,4,5]))\n"
   ]
  },
  {
   "cell_type": "code",
   "execution_count": 70,
   "metadata": {},
   "outputs": [
    {
     "name": "stdout",
     "output_type": "stream",
     "text": [
      "positive numbers in given list\t:[3, 4, 5]\n"
     ]
    },
    {
     "data": {
      "text/plain": [
       "[3, 4, 5]"
      ]
     },
     "execution_count": 70,
     "metadata": {},
     "output_type": "execute_result"
    }
   ],
   "source": [
    "##task1>>1.2)pgm to impleament own filter()\n",
    "\n",
    "def mpositive(a):\n",
    "    if(a<=0):\n",
    "        return False\n",
    "    else:\n",
    "        return True\n",
    "\n",
    "def myfilter(func,seq):\n",
    "    result=[]\n",
    "    for i in seq:\n",
    "        if func(i):\n",
    "            result.append(i)\n",
    "    return result\n",
    "print(\"positive numbers in given list\\t:\"+ str(myfilter(mpositive,[0,-1,-2,3,4,5])))    \n",
    "myfilter(mpositive,[0,-1,-2,3,4,5])"
   ]
  },
  {
   "cell_type": "code",
   "execution_count": 71,
   "metadata": {},
   "outputs": [
    {
     "data": {
      "text/plain": [
       "['A', 'C', 'A', 'D', 'G', 'I', 'L', 'D']"
      ]
     },
     "execution_count": 71,
     "metadata": {},
     "output_type": "execute_result"
    }
   ],
   "source": [
    "##task1>>2)Implement list comprehension to produce the following lists\n",
    "\n",
    "gwrd=\"ACADGILD\"\n",
    "list=[i for i in gwrd]\n",
    "list"
   ]
  },
  {
   "cell_type": "code",
   "execution_count": 72,
   "metadata": {},
   "outputs": [
    {
     "data": {
      "text/plain": [
       "['x', 'xx', 'xxx', 'xxxx', 'y', 'yy', 'yyy', 'yyyy', 'z', 'zz', 'zzz', 'zzzz']"
      ]
     },
     "execution_count": 72,
     "metadata": {},
     "output_type": "execute_result"
    }
   ],
   "source": [
    "##['x','xx','xxx','xxxx','y','yy','yyy','yyyy','z','zz','zzz','zzzz']\n",
    "\n",
    "list=['x','y','z']\n",
    "flist=[i*n for i in list for n in range(1,5)]\n",
    "flist"
   ]
  },
  {
   "cell_type": "code",
   "execution_count": 73,
   "metadata": {},
   "outputs": [
    {
     "data": {
      "text/plain": [
       "['x', 'y', 'z', 'xx', 'yy', 'zz', 'xxx', 'yyy', 'zzz', 'xxxx', 'yyyy', 'zzzz']"
      ]
     },
     "execution_count": 73,
     "metadata": {},
     "output_type": "execute_result"
    }
   ],
   "source": [
    "##['x','y','z','xx','yy','zz','xxxx','yyyy','zzzz']\n",
    "\n",
    "list=['x','y','z']\n",
    "flist=[i*n for n in range(1,5) for i in list]\n",
    "flist"
   ]
  },
  {
   "cell_type": "code",
   "execution_count": 74,
   "metadata": {},
   "outputs": [
    {
     "data": {
      "text/plain": [
       "[[2], [3], [4], [3], [4], [5], [4], [5], [6]]"
      ]
     },
     "execution_count": 74,
     "metadata": {},
     "output_type": "execute_result"
    }
   ],
   "source": [
    "##[[2],[3],[4],[3],[4],[5],[4],[5],[6]]\n",
    "\n",
    "list=[2,3,4]\n",
    "flist=[[i+n] for i in list for n in range(0,3)]\n",
    "flist\n"
   ]
  },
  {
   "cell_type": "code",
   "execution_count": 75,
   "metadata": {},
   "outputs": [
    {
     "data": {
      "text/plain": [
       "[[2, 3, 4, 5], [3, 4, 5, 6], [4, 5, 6, 7], [5, 6, 7, 8]]"
      ]
     },
     "execution_count": 75,
     "metadata": {},
     "output_type": "execute_result"
    }
   ],
   "source": [
    "##[[2,3,4,5],[3,4,5,6],[4,5,6,7],[5,6,7,8]]\n",
    "\n",
    "list=[2,3,4,5]\n",
    "flist=[[i+n for i in list] for n in range(0,4)]\n",
    "flist"
   ]
  },
  {
   "cell_type": "code",
   "execution_count": 76,
   "metadata": {},
   "outputs": [
    {
     "data": {
      "text/plain": [
       "[(1, 1), (2, 1), (3, 1), (1, 2), (2, 2), (3, 2), (1, 3), (2, 3), (3, 3)]"
      ]
     },
     "execution_count": 76,
     "metadata": {},
     "output_type": "execute_result"
    }
   ],
   "source": [
    "##[(1,1),(2,1),(3,1),(1,2),(2,2),(3,2),(1,3),(2,3),(3,3)]\n",
    "\n",
    "list=[1,2,3]\n",
    "flist=[(j,i) for i in list for j in list]\n",
    "flist"
   ]
  },
  {
   "cell_type": "code",
   "execution_count": 77,
   "metadata": {},
   "outputs": [
    {
     "data": {
      "text/plain": [
       "'bayofbengal'"
      ]
     },
     "execution_count": 77,
     "metadata": {},
     "output_type": "execute_result"
    }
   ],
   "source": [
    "##implement a function longestWord() that takes a  list of words and return the longest one\n",
    "\n",
    "def longestWord(entlist):\n",
    "   \n",
    "    wrdlen=[]\n",
    "    for i in entlist:\n",
    "        wrdlen.append((len(i),i))\n",
    "    wrdlen.sort()\n",
    "    return wrdlen[-1][1]\n",
    "\n",
    "longestWord(['may','longestday','lday','bayofbengal'])\n"
   ]
  },
  {
   "cell_type": "code",
   "execution_count": 48,
   "metadata": {},
   "outputs": [
    {
     "name": "stdout",
     "output_type": "stream",
     "text": [
      "enter area of first side:\t5\n",
      "enter area of second side:\t5\n",
      "enter area of third side:\t5\n",
      "area of triangle:\t10.825317547305483\n"
     ]
    }
   ],
   "source": [
    "# Write a Python Program(with class concepts) to find the area of the triangle using the below\n",
    "# formula.\n",
    "# area = (s*(s-a)*(s-b)*(s-c)) ** 0.5\n",
    "# Function to take the length of the sides of triangle from user should be defined in the parent\n",
    "# class and function to calculate the area should be defined in subclass.\n",
    "\n",
    "class getusrinpt(object):\n",
    "        a=input(\"enter area of first side:\\t\")\n",
    "        b=input(\"enter area of second side:\\t\")\n",
    "        c=input('enter area of third side:\\t')\n",
    " \n",
    "\n",
    "    \n",
    "class calarea(getusrinpt):\n",
    "     def area():\n",
    "            a= float(getusrinpt.a)\n",
    "            b=float(getusrinpt.b)\n",
    "            c=float(getusrinpt.c)\n",
    "            s0=int(a)/2\n",
    "            s1=int(b)/2\n",
    "            s2=int(c)/2\n",
    "            s=float(s0)+float(s1)+float(s2)\n",
    "            triarea=(s*(s-a)*(s-b)*(s-c))**0.5\n",
    "            return triarea\n",
    "        \n",
    "print(\"area of triangle:\\t\"+str(calarea.area()))\n"
   ]
  },
  {
   "cell_type": "code",
   "execution_count": 29,
   "metadata": {},
   "outputs": [
    {
     "data": {
      "text/plain": [
       "['longestdays']"
      ]
     },
     "execution_count": 29,
     "metadata": {},
     "output_type": "execute_result"
    }
   ],
   "source": [
    "##write a function filter_long_words() that takes a list of words and integer n and returns the list of words thst are longer than n\n",
    "\n",
    "def filter_long_words(wrds,n):\n",
    "    result=[]\n",
    "    for i in range(len(wrds)):\n",
    "        if len(wrds[i]) > n:\n",
    "            result.append(wrds[i])\n",
    "    return result\n",
    "\n",
    "filter_long_words(['day','month','year','longestdays'],5 )"
   ]
  },
  {
   "cell_type": "code",
   "execution_count": 68,
   "metadata": {},
   "outputs": [
    {
     "data": {
      "text/plain": [
       "[2, 3, 4]"
      ]
     },
     "execution_count": 68,
     "metadata": {},
     "output_type": "execute_result"
    }
   ],
   "source": [
    "# Write a Python program using function concept that maps list of words into a list of integers\n",
    "# representing the lengths of the corresponding words.\n",
    "# Hint: If a list [ ab,cde,erty] is passed on to the python function output should come as [2,3,4]\n",
    "# Here 2,3 and 4 are the lengths of the words in the list\n",
    "\n",
    "def wrdlenth(wrds):\n",
    "    return [len(x) for x in wrds]\n",
    "\n",
    "\n",
    "\n",
    "wrdlenth(['ab','cde','erty'])"
   ]
  },
  {
   "cell_type": "code",
   "execution_count": 67,
   "metadata": {},
   "outputs": [
    {
     "name": "stdout",
     "output_type": "stream",
     "text": [
      "False\n",
      "True\n",
      "True\n"
     ]
    }
   ],
   "source": [
    "# Write a Python function which takes a character (i.e. a string of length 1) and returns True if it is\n",
    "# a vowel, False otherwise.\n",
    "\n",
    "def isvowel(char):\n",
    "    vowels=('a','e','i','o','u')\n",
    "    vowelsCap=('A','E','I','O','U')\n",
    "    if char not in vowels and char not in vowelsCap:\n",
    "        return False\n",
    "    return True\n",
    "\n",
    "print(isvowel('1'))\n",
    "print(isvowel('a'))\n",
    "print(isvowel('A'))\n",
    "\n",
    "\n",
    "        "
   ]
  },
  {
   "cell_type": "code",
   "execution_count": null,
   "metadata": {},
   "outputs": [],
   "source": []
  },
  {
   "cell_type": "code",
   "execution_count": null,
   "metadata": {},
   "outputs": [],
   "source": []
  }
 ],
 "metadata": {
  "kernelspec": {
   "display_name": "Python 3",
   "language": "python",
   "name": "python3"
  },
  "language_info": {
   "codemirror_mode": {
    "name": "ipython",
    "version": 3
   },
   "file_extension": ".py",
   "mimetype": "text/x-python",
   "name": "python",
   "nbconvert_exporter": "python",
   "pygments_lexer": "ipython3",
   "version": "3.7.6"
  }
 },
 "nbformat": 4,
 "nbformat_minor": 4
}
