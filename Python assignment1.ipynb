{
 "cells": [
  {
   "cell_type": "code",
   "execution_count": 1,
   "metadata": {},
   "outputs": [
    {
     "name": "stdout",
     "output_type": "stream",
     "text": [
      "numbers divisible by 7 and not multiple of 5 for range b/w 2000 to 3>>>2030,2065,2100,2135,2170,2205,2240,2275,2310,2345,2380,2415,2450,2485,2520,2555,2590,2625,2660,2695,2730,2765,2800,2835,2870,2905,2940,2975,3010,3045,3080,3115,3150,3185\n"
     ]
    }
   ],
   "source": [
    "# 1. Write a program which will find all such numbers which are divisible by 7 but are not a\n",
    "# multiple of 5, between 2000 and 3200 (both included). The numbers obtained should be printed\n",
    "# in a comma-separated sequence on a single line.\n",
    "\n",
    "opt=[]\n",
    "for i in range(2000,3200):\n",
    "     if (i%7==0) and (i%5==0):\n",
    "        opt.append(str(i))\n",
    "print(\"numbers divisible by 7 and not multiple of 5 for range b/w 2000 to 3>>>\"+','.join(opt))"
   ]
  },
  {
   "cell_type": "code",
   "execution_count": 2,
   "metadata": {},
   "outputs": [
    {
     "name": "stdout",
     "output_type": "stream",
     "text": [
      "Please enter your first name:\tmadhu\n",
      "Please enter you last name: \tbala\n",
      "reversed user name \t:bala\tmadhu\n"
     ]
    }
   ],
   "source": [
    "# 2. Write a Python program to accept the user's first and last name and then getting them printed in the the reverse order with a space between first name and last name.\n",
    "userfirstName=input(\"Please enter your first name:\\t\")\n",
    "userlastName=input(\"Please enter you last name: \\t\")\n",
    "revfstName=userfirstName[::-1]\n",
    "revlstName=userlastName[::-1]\n",
    "print(\"reversed user name \\t:\" +revlstName[::-1]+\"\\t\"+revfstName[::-1])"
   ]
  },
  {
   "cell_type": "code",
   "execution_count": 3,
   "metadata": {},
   "outputs": [
    {
     "name": "stdout",
     "output_type": "stream",
     "text": [
      "enter the diameter value\t:12\n",
      "volume of sphere for given diameter:7238.229473870883\n"
     ]
    }
   ],
   "source": [
    "# 3. Write a Python program to find the volume of a sphere with diameter 12 cm.Formula: V=4/3 * π * r 3\n",
    "dia=input(\"enter the diameter value\\t:\")\n",
    "\n",
    "\n",
    "def volume(diameter):\n",
    "    pi=3.1415926535897931\n",
    "    r=diameter\n",
    "    v=(4/3)*pi*float(r)*float(r)*float(r)\n",
    "   \n",
    "    return v\n",
    "volume(dia)\n",
    "print(\"volume of sphere for given diameter:\"+ str(volume(dia)))"
   ]
  },
  {
   "cell_type": "code",
   "execution_count": null,
   "metadata": {},
   "outputs": [],
   "source": []
  }
 ],
 "metadata": {
  "kernelspec": {
   "display_name": "Python 3",
   "language": "python",
   "name": "python3"
  },
  "language_info": {
   "codemirror_mode": {
    "name": "ipython",
    "version": 3
   },
   "file_extension": ".py",
   "mimetype": "text/x-python",
   "name": "python",
   "nbconvert_exporter": "python",
   "pygments_lexer": "ipython3",
   "version": "3.8.3"
  }
 },
 "nbformat": 4,
 "nbformat_minor": 4
}
