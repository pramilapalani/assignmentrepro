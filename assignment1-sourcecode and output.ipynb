{
 "cells": [
  {
   "cell_type": "code",
   "execution_count": 139,
   "metadata": {},
   "outputs": [
    {
     "name": "stdout",
     "output_type": "stream",
     "text": [
      "1\n",
      "2\n",
      "3\n",
      "4\n",
      "5\n",
      "python\n",
      "prgm\n",
      "first\n"
     ]
    },
    {
     "data": {
      "text/plain": [
       "[1, 2, 3, 4, 5, 'python', 'prgm', 'first', 6, 7, 8, 9, 'prgm', 'output']"
      ]
     },
     "execution_count": 139,
     "metadata": {},
     "output_type": "execute_result"
    }
   ],
   "source": [
    "##task1>>1)\n",
    "\n",
    "a=[1,2,3,4,5,\"python\",\"prgm\",\"first\"]\n",
    "m=[6,7,8,9,\"prgm\",\"output\"]\n",
    "for i in a:\n",
    "     print (i)\n",
    "a+m"
   ]
  },
  {
   "cell_type": "code",
   "execution_count": 3,
   "metadata": {},
   "outputs": [
    {
     "name": "stdout",
     "output_type": "stream",
     "text": [
      "numbers divisible by 7 and not multiple of 5 for range b/w 2000 to 3>>>2030,2065,2100,2135,2170,2205,2240,2275,2310,2345,2380,2415,2450,2485,2520,2555,2590,2625,2660,2695,2730,2765,2800,2835,2870,2905,2940,2975,3010,3045,3080,3115,3150,3185\n"
     ]
    }
   ],
   "source": [
    "##task1>>2) program to find number divisible by 7 and not multiple of 5\n",
    "\n",
    "opt=[]\n",
    "for i in range(2000,3200):\n",
    "     if (i%7==0) and (i%5==0):\n",
    "        opt.append(str(i))\n",
    "print(\"numbers divisible by 7 and not multiple of 5 for range b/w 2000 to 3>>>\"+','.join(opt))"
   ]
  },
  {
   "cell_type": "code",
   "execution_count": 4,
   "metadata": {},
   "outputs": [
    {
     "name": "stdout",
     "output_type": "stream",
     "text": [
      "Please enter your first name:\tmadhu\n",
      "Please enter you last name: \tbala\n",
      "reversed user name \t:bala\tmadhu\n"
     ]
    }
   ],
   "source": [
    "##task1>>3)prg to accept the user name and reverse the user first and last name\n",
    "\n",
    "userfirstName=input(\"Please enter your first name:\\t\")\n",
    "userlastName=input(\"Please enter you last name: \\t\")\n",
    "revfstName=userfirstName[::-1]\n",
    "revlstName=userlastName[::-1]\n",
    "print(\"reversed user name \\t:\" +revlstName[::-1]+\"\\t\"+revfstName[::-1])"
   ]
  },
  {
   "cell_type": "code",
   "execution_count": 5,
   "metadata": {},
   "outputs": [
    {
     "name": "stdout",
     "output_type": "stream",
     "text": [
      "enter the diameter value\t:12\n",
      "volume of sphere for given diameter:7238.229473870883\n"
     ]
    }
   ],
   "source": [
    "##task1>>4)prg to find volume of sphere\n",
    "\n",
    "dia=input(\"enter the diameter value\\t:\")\n",
    "\n",
    "\n",
    "def volume(diameter):\n",
    "    pi=3.1415926535897931\n",
    "    r=diameter\n",
    "    v=(4/3)*pi*float(r)*float(r)*float(r)\n",
    "   \n",
    "    return v\n",
    "volume(dia)\n",
    "print(\"volume of sphere for given diameter:\"+ str(volume(dia)))\n"
   ]
  },
  {
   "cell_type": "code",
   "execution_count": 6,
   "metadata": {},
   "outputs": [
    {
     "name": "stdout",
     "output_type": "stream",
     "text": [
      "enter the numbers with commas\t:3,4,56,78.9,90\n"
     ]
    },
    {
     "data": {
      "text/plain": [
       "['3', '4', '56', '78.9', '90']"
      ]
     },
     "execution_count": 6,
     "metadata": {},
     "output_type": "execute_result"
    }
   ],
   "source": [
    "##task2>>>1)accepts a sequence of comma-seprated numbers and geneate a list\n",
    "\n",
    "userinpt=input(\"enter the numbers with commas\\t:\")\n",
    "##print(\"generated list from user input\\t:\"+ str(genlist(userinpt)))\n",
    "\n",
    "def genlist(userinpt):\n",
    "    a=[]\n",
    "    a=userinpt.split(\",\")\n",
    "    return a\n",
    "\n",
    "genlist(userinpt)"
   ]
  },
  {
   "cell_type": "code",
   "execution_count": 7,
   "metadata": {},
   "outputs": [
    {
     "name": "stdout",
     "output_type": "stream",
     "text": [
      "*\r\n",
      "**\r\n",
      "***\r\n",
      "****\r\n",
      "*****\r\n",
      "****\r\n",
      "***\r\n",
      "**\r\n",
      "*\r\n",
      "\r\n"
     ]
    }
   ],
   "source": [
    "##task2>>>2)pattern pgm using for loop\n",
    "\n",
    "for i in range(0,5):\n",
    "    for j in range(0,i+1):\n",
    "        print(\"*\",end='')\n",
    "    print(\"\\r\")\n",
    "\n",
    "for i in range(5,0,-1):\n",
    "    for j in range(0,i-1):\n",
    "        print(\"*\",end='')\n",
    "    print(\"\\r\")"
   ]
  },
  {
   "cell_type": "code",
   "execution_count": 8,
   "metadata": {},
   "outputs": [
    {
     "name": "stdout",
     "output_type": "stream",
     "text": [
      "Enter the word:\tAcadGlid\n",
      "reversed word:\tdilGdacA\n"
     ]
    }
   ],
   "source": [
    "##task2>>3)pgm to reverser the given word after accepting input from user\n",
    "\n",
    "str=input(\"Enter the word:\\t\")\n",
    "revWord=str[::-1]\n",
    "print(\"reversed word:\\t\"+revWord)"
   ]
  },
  {
   "cell_type": "code",
   "execution_count": 12,
   "metadata": {
    "scrolled": false
   },
   "outputs": [
    {
     "name": "stdout",
     "output_type": "stream",
     "text": [
      "SAMPLE OUTPUT:\n",
      "WE,THE PEOPLE OF INDIA,\n",
      "      having solemnly resolved to constitue India into a SOVEREIGN,!\n",
      "\t   SOCIALIST,SECULAR,DEMOCRATIC REPUBLIC \n",
      "\t   and to secure to all its citizens\n"
     ]
    }
   ],
   "source": [
    "##task2>>4)pgm print the given string in given format\n",
    "\n",
    "str=\"WE,THE PEOPLE OF INDIA,having solemnly resolved to constitue India into a SOVEREIGN,SOCIALIST,SECULAR,DEMOCRATIC REPUBLIC and to secure to all its citizens\"\n",
    "a=str[0:23]\n",
    "b=\"\\n\"+\"\".join(\"      \")+str[23:84]+\"\".join(\"!\")\n",
    "c=\"\\n\"+\"\\t\"+\"   \"+str[84:122]\n",
    "d=\"\\n\"+\"\\t\"+\"  \"+str[121:200]\n",
    "print(\"SAMPLE OUTPUT:\\n\"+a+b+c+d)\n",
    "##print(\"\"+str[0:23]+\"\\n\"+\"\".join(\"      \")+str[23:83]+\"\".join(\"!\")+\"\\n\"+\"\\t\"+\"   \"+str[83:120]+\"\\n\"+\"\\t\"+\"  \"+str[120:200])"
   ]
  },
  {
   "cell_type": "code",
   "execution_count": null,
   "metadata": {},
   "outputs": [],
   "source": []
  },
  {
   "cell_type": "code",
   "execution_count": null,
   "metadata": {},
   "outputs": [],
   "source": []
  }
 ],
 "metadata": {
  "kernelspec": {
   "display_name": "Python 3",
   "language": "python",
   "name": "python3"
  },
  "language_info": {
   "codemirror_mode": {
    "name": "ipython",
    "version": 3
   },
   "file_extension": ".py",
   "mimetype": "text/x-python",
   "name": "python",
   "nbconvert_exporter": "python",
   "pygments_lexer": "ipython3",
   "version": "3.7.6"
  }
 },
 "nbformat": 4,
 "nbformat_minor": 4
}
